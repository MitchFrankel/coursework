{
 "cells": [
  {
   "cell_type": "markdown",
   "metadata": {},
   "source": [
    "# <font color=blue> Welcome to Tic Tac Doh! </font>\n",
    "\n",
    "## <font color = green> Rules </font>\n",
    "<font color = green> 1. The game is between two players and begins with Player 1 choosing either X or O. </font>  \n",
    "<font color = green> 2. Each player takes a turn choosing the number of an open space. </font>  \n",
    "<font color = green> 3. The game ends when either a player has three markers in a row across, down, or diagonal, or a stalement occurs. </font>  \n",
    "<font color = green> 4. That's it! Pretty simple, huh 🌞! </font>  \n",
    "\n",
    "### <font color = yellow> To start the game, execute cell #1 using CTRL+ENTER </font> "
   ]
  },
  {
   "cell_type": "code",
   "execution_count": null,
   "metadata": {},
   "outputs": [],
   "source": [
    "%run -i main"
   ]
  }
 ],
 "metadata": {
  "kernelspec": {
   "display_name": "Python 3",
   "language": "python",
   "name": "python3"
  },
  "language_info": {
   "codemirror_mode": {
    "name": "ipython",
    "version": 3
   },
   "file_extension": ".py",
   "mimetype": "text/x-python",
   "name": "python",
   "nbconvert_exporter": "python",
   "pygments_lexer": "ipython3",
   "version": "3.7.0"
  }
 },
 "nbformat": 4,
 "nbformat_minor": 2
}
